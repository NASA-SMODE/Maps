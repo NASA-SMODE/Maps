{
 "cells": [
  {
   "cell_type": "code",
   "execution_count": 1,
   "metadata": {},
   "outputs": [],
   "source": [
    "import os\n",
    "import sys\n",
    "sys.path.insert(0,'./tools/')\n",
    "\n",
    "import numpy as np\n",
    "import xarray as xr\n",
    "\n",
    "import pygmt\n",
    "\n",
    "import cartopy.crs as ccrs\n",
    "import cartopy.feature as cfeature\n",
    "from cartopy.mpl.ticker import LongitudeFormatter, LatitudeFormatter\n",
    "import matplotlib.ticker as mticker\n",
    "from mpl_toolkits.axes_grid1 import AxesGrid\n",
    "from cartopy.mpl.geoaxes import GeoAxes\n",
    "\n",
    "import matplotlib.pyplot as plt\n",
    "import matplotlib as mpl\n",
    "mpl.rcParams['contour.negative_linestyle']= 'solid'\n",
    "import cmocean"
   ]
  },
  {
   "cell_type": "code",
   "execution_count": 2,
   "metadata": {},
   "outputs": [],
   "source": [
    "from tools.config import OPSAREA, MAPEXTENT\n",
    "from maps import *"
   ]
  },
  {
   "cell_type": "code",
   "execution_count": 3,
   "metadata": {},
   "outputs": [],
   "source": [
    "# figure settings\n",
    "figdir  = 'img/'\n",
    "filename = 'SMODE_OperationsArea'\n",
    "extension = ['png','pdf']\n",
    "figproperties = dict(dpi=200,bbox_inches='tight')"
   ]
  },
  {
   "cell_type": "markdown",
   "metadata": {},
   "source": [
    "### [pygmt](https://www.pygmt.org/v0.2.1/index.html): postscript GMT figure\n",
    "\n",
    "Somewhat cryptic syntax but gorgeous maps. Requires GMT 6 in addition to pygmt."
   ]
  },
  {
   "cell_type": "code",
   "execution_count": 27,
   "metadata": {},
   "outputs": [],
   "source": [
    "# Settings\n",
    "topo_data = '@earth_relief_30s'\n",
    "proj = 'M6i'"
   ]
  },
  {
   "cell_type": "code",
   "execution_count": null,
   "metadata": {},
   "outputs": [],
   "source": [
    "# Make the figure\n",
    "fig = pygmt.Figure()\n",
    "\n",
    "# High-res topography\n",
    "pygmt.makecpt(\n",
    "    cmap='bathy',\n",
    "    series='-7010/-10/10',\n",
    "    continuous=True\n",
    ")\n",
    "\n",
    "fig.grdimage(\n",
    "    grid=topo_data,\n",
    "    region=MAPEXTENT,\n",
    "    projection=proj,\n",
    "    shading=True,\n",
    "    frame=\"ag\"\n",
    "    )\n",
    "\n",
    "\n",
    "fig.grdcontour(\n",
    "    grid=topo_data,\n",
    "    interval=100,\n",
    "    annotation=\"100+f6p\",\n",
    "    limit=\"-210/-10\",\n",
    "    pen=\"a0.15p\",\n",
    "    )\n",
    "\n",
    "fig.grdcontour(\n",
    "    grid=topo_data,\n",
    "    interval=1000,\n",
    "    annotation=\"1000+f6p\",\n",
    "    limit=\"-5000/-1000\",\n",
    "    pen=\"a0.15p\",\n",
    "    )\n",
    "\n",
    "\n",
    "# Operations area\n",
    "fig.plot(\n",
    "    x=OPSAREA['longitude'],\n",
    "    y=OPSAREA['latitude'],\n",
    "    color='gray30@40',\n",
    "    pen='3p,black',\n",
    "    )\n",
    "\n",
    "# Coast\n",
    "fig.coast(\n",
    "    shorelines=True,\n",
    "    resolution='f',land='black')\n",
    "\n",
    "# Legends and text\n",
    "fig.text(\n",
    "    x=[-123.85],\n",
    "    y=[37.2],\n",
    "    text='S-MODE Operations Area',  \n",
    "    font='11p,Helvetica-Bold,white',\n",
    "    angle=27,\n",
    "    )\n",
    "\n",
    "fig.show()\n",
    "\n",
    "# To save in extensions other than ps, eps or pdf, you will need psconvet \n",
    "# installed\n",
    "# [fig.savefig(os.path.join(figdir,filename+'_gmt.'+ext),\n",
    "#              **figproperties) \n",
    "#              for ext in extension]\n",
    "fig.savefig(os.path.join(figdir,filename+'_gmt.pdf'))"
   ]
  },
  {
   "cell_type": "code",
   "execution_count": 19,
   "metadata": {},
   "outputs": [],
   "source": [
    "# !open -a Preview img/SMODE_OperationsArea_gmt.pdf  # this only works on the Mac"
   ]
  },
  {
   "cell_type": "markdown",
   "metadata": {},
   "source": [
    "### [cartopy](https://scitools.org.uk/cartopy/docs/latest/installing.html)\n",
    "A bit more intuitive (but clunky) syntax and decent-looking maps. Maps could be beautified, but that takes a lot of work.\n",
    "\n",
    "The old NaturalEarth server is broken (9/22/2021). Features may have to manually downloaded and unzipped (see https://github.com/SciTools/cartopy/issues/1849)."
   ]
  },
  {
   "cell_type": "code",
   "execution_count": 7,
   "metadata": {},
   "outputs": [],
   "source": [
    "# Get slice of ETOPO1 data from WHOI's GEOPORT thredds\n",
    "url = 'http://geoport.whoi.edu/thredds/dodsC/bathy/etopo1_bed_g2'\n",
    "bathy = xr.open_dataset(url)\n",
    "bathy = bathy.sel(lon=slice(MAPEXTENT[0],MAPEXTENT[1]),\n",
    "                  lat=slice(MAPEXTENT[2],MAPEXTENT[3])\n",
    ")"
   ]
  },
  {
   "cell_type": "code",
   "execution_count": 8,
   "metadata": {},
   "outputs": [],
   "source": [
    "projection = ccrs.PlateCarree(central_longitude=(MAPEXTENT[0]+MAPEXTENT[1])/2)"
   ]
  },
  {
   "cell_type": "code",
   "execution_count": null,
   "metadata": {},
   "outputs": [],
   "source": [
    "fig = plt.figure(figsize=(8,7))\n",
    "\n",
    "ax = fig.add_subplot(111, projection=projection)     \n",
    "\n",
    "ax.set_extent(MAPEXTENT)\n",
    "\n",
    "# Topography\n",
    "plot_topography(ax, colors=True,\n",
    "                transform=ccrs.PlateCarree()\n",
    ")\n",
    "\n",
    "# Map properties (continent, labels, grid)\n",
    "plot_map_properties(ax,transform=ccrs.PlateCarree())\n",
    "\n",
    "# SMODE area\n",
    "plot_operations_area(ax=ax,\n",
    "                     transform=ccrs.PlateCarree(),\n",
    "                     add_label=True\n",
    ")\n",
    "\n",
    "# Save figure\n",
    "[fig.savefig(os.path.join(figdir,filename+'_cartopy.'+ext),\n",
    "             **figproperties) \n",
    "            for ext in extension]"
   ]
  },
  {
   "cell_type": "code",
   "execution_count": null,
   "metadata": {},
   "outputs": [],
   "source": []
  }
 ],
 "metadata": {
  "kernelspec": {
   "display_name": "Python 3",
   "language": "python",
   "name": "python3"
  },
  "language_info": {
   "codemirror_mode": {
    "name": "ipython",
    "version": 3
   },
   "file_extension": ".py",
   "mimetype": "text/x-python",
   "name": "python",
   "nbconvert_exporter": "python",
   "pygments_lexer": "ipython3",
   "version": "3.8.3"
  }
 },
 "nbformat": 4,
 "nbformat_minor": 4
}
