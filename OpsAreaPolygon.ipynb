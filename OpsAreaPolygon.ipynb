{
 "cells": [
  {
   "cell_type": "code",
   "execution_count": 218,
   "id": "c0633626-3b51-4b13-9e98-39033eacc5ce",
   "metadata": {},
   "outputs": [],
   "source": [
    "import pandas as pd\n",
    "import matplotlib.pyplot as plt"
   ]
  },
  {
   "cell_type": "code",
   "execution_count": 219,
   "id": "6aa45a6a-ca55-48cb-87b2-9dfce01f3a4d",
   "metadata": {},
   "outputs": [],
   "source": [
    "# ops_area_polygon is pasted straight from \n",
    "#  the SMODE Pilot Experimental Plan (page 7)\n",
    "colnames = ['lat_deg','lat_min','lon_deg','lon_min']\n",
    "df = pd.read_csv('tools/ops_area_polygon.csv',sep=',',\n",
    "                 names=colnames,header=0)"
   ]
  },
  {
   "cell_type": "code",
   "execution_count": 220,
   "id": "ca703c1c-10a4-43d6-8f9d-f0192490d33b",
   "metadata": {},
   "outputs": [
    {
     "data": {
      "text/html": [
       "<div>\n",
       "<style scoped>\n",
       "    .dataframe tbody tr th:only-of-type {\n",
       "        vertical-align: middle;\n",
       "    }\n",
       "\n",
       "    .dataframe tbody tr th {\n",
       "        vertical-align: top;\n",
       "    }\n",
       "\n",
       "    .dataframe thead th {\n",
       "        text-align: right;\n",
       "    }\n",
       "</style>\n",
       "<table border=\"1\" class=\"dataframe\">\n",
       "  <thead>\n",
       "    <tr style=\"text-align: right;\">\n",
       "      <th></th>\n",
       "      <th>lat_deg</th>\n",
       "      <th>lat_min</th>\n",
       "      <th>lon_deg</th>\n",
       "      <th>lon_min</th>\n",
       "    </tr>\n",
       "  </thead>\n",
       "  <tbody>\n",
       "    <tr>\n",
       "      <th>0</th>\n",
       "      <td>38</td>\n",
       "      <td>0.5</td>\n",
       "      <td>-125</td>\n",
       "      <td>-22.067</td>\n",
       "    </tr>\n",
       "    <tr>\n",
       "      <th>1</th>\n",
       "      <td>37</td>\n",
       "      <td>43.0</td>\n",
       "      <td>-124</td>\n",
       "      <td>-0.067</td>\n",
       "    </tr>\n",
       "    <tr>\n",
       "      <th>2</th>\n",
       "      <td>37</td>\n",
       "      <td>45.0</td>\n",
       "      <td>-123</td>\n",
       "      <td>-26.000</td>\n",
       "    </tr>\n",
       "    <tr>\n",
       "      <th>3</th>\n",
       "      <td>36</td>\n",
       "      <td>58.0</td>\n",
       "      <td>-122</td>\n",
       "      <td>-57.000</td>\n",
       "    </tr>\n",
       "    <tr>\n",
       "      <th>4</th>\n",
       "      <td>36</td>\n",
       "      <td>20.0</td>\n",
       "      <td>-124</td>\n",
       "      <td>-19.067</td>\n",
       "    </tr>\n",
       "  </tbody>\n",
       "</table>\n",
       "</div>"
      ],
      "text/plain": [
       "   lat_deg  lat_min  lon_deg  lon_min\n",
       "0       38      0.5     -125  -22.067\n",
       "1       37     43.0     -124   -0.067\n",
       "2       37     45.0     -123  -26.000\n",
       "3       36     58.0     -122  -57.000\n",
       "4       36     20.0     -124  -19.067"
      ]
     },
     "execution_count": 220,
     "metadata": {},
     "output_type": "execute_result"
    }
   ],
   "source": [
    "df"
   ]
  },
  {
   "cell_type": "code",
   "execution_count": 221,
   "id": "b465aafb-e6ab-45c4-9425-f32eb0e27dc9",
   "metadata": {},
   "outputs": [],
   "source": [
    "# append last first row to close the polygon\n",
    "df = df.append(df.iloc[0],ignore_index=True)"
   ]
  },
  {
   "cell_type": "code",
   "execution_count": 222,
   "id": "b27488d2-9503-4663-9da8-b4755dfd8f91",
   "metadata": {},
   "outputs": [],
   "source": [
    "lat = df.lat_deg + df.lat_min/60\n",
    "lon = df.lon_deg + df.lon_min/60"
   ]
  },
  {
   "cell_type": "code",
   "execution_count": 223,
   "id": "70fd971f-d7dd-41f2-9718-dc094827f62c",
   "metadata": {},
   "outputs": [
    {
     "data": {
      "text/plain": [
       "[<matplotlib.lines.Line2D at 0x2b01d349b1f0>]"
      ]
     },
     "execution_count": 223,
     "metadata": {},
     "output_type": "execute_result"
    },
    {
     "data": {
      "image/png": "[encoded data removed]",
      "text/plain": [
       "<Figure size 432x288 with 1 Axes>"
      ]
     },
     "metadata": {
      "needs_background": "light"
     },
     "output_type": "display_data"
    }
   ],
   "source": [
    "plt.plot(lon,lat)"
   ]
  },
  {
   "cell_type": "code",
   "execution_count": 224,
   "id": "3f6c614c-96c5-490b-ae89-198cbc50319e",
   "metadata": {},
   "outputs": [],
   "source": [
    "df_polygon = pd.DataFrame([lon,lat])"
   ]
  },
  {
   "cell_type": "code",
   "execution_count": 225,
   "id": "b14e4e10-589d-4582-9905-65303301bcc9",
   "metadata": {},
   "outputs": [],
   "source": [
    "df_polygon = pd.concat([lon, lat], axis=1).\\\n",
    "                          rename(columns={0: 'longitude', \n",
    "                                          1: 'latitude'}\n",
    "                    )"
   ]
  },
  {
   "cell_type": "code",
   "execution_count": 226,
   "id": "081dee32-9754-483f-baaa-7b6be0d09c76",
   "metadata": {},
   "outputs": [],
   "source": [
    "df_polygon.to_json('ops_area_polygon.json',\n",
    "                   orient='split',\n",
    "                   index=False\n",
    ")"
   ]
  },
  {
   "cell_type": "code",
   "execution_count": 227,
   "id": "fbf93c2e-9316-4b75-b765-94791c1164fa",
   "metadata": {},
   "outputs": [
    {
     "name": "stdout",
     "output_type": "stream",
     "text": [
      "{\"columns\":[\"longitude\",\"latitude\"],\"data\":[[-125.3677833333,38.0083333333],[-124.0011166667,37.7166666667],[-123.4333333333,37.75],[-122.95,36.9666666667],[-124.3177833333,36.3333333333],[-125.3677833333,38.0083333333]]}"
     ]
    }
   ],
   "source": [
    "!cat ops_area_polygon.json"
   ]
  },
  {
   "cell_type": "code",
   "execution_count": 228,
   "id": "ea358f0e-bbdc-4747-9b09-38e0d129cecb",
   "metadata": {},
   "outputs": [
    {
     "data": {
      "text/plain": [
       "array([-125.36778333, -124.00111667, -123.43333333, -122.95      ,\n",
       "       -124.31778333, -125.36778333])"
      ]
     },
     "execution_count": 228,
     "metadata": {},
     "output_type": "execute_result"
    }
   ],
   "source": [
    "lon.values"
   ]
  },
  {
   "cell_type": "code",
   "execution_count": 229,
   "id": "3c3a9308-672b-4768-8665-5f3dd9eaaf09",
   "metadata": {},
   "outputs": [
    {
     "data": {
      "text/plain": [
       "array([38.00833333, 37.71666667, 37.75      , 36.96666667, 36.33333333,\n",
       "       38.00833333])"
      ]
     },
     "execution_count": 229,
     "metadata": {},
     "output_type": "execute_result"
    }
   ],
   "source": [
    "lat.values"
   ]
  },
  {
   "cell_type": "code",
   "execution_count": null,
   "id": "e86c5c8a-fe0e-4185-81c5-b9ebdba73f60",
   "metadata": {},
   "outputs": [],
   "source": []
  }
 ],
 "metadata": {
  "kernelspec": {
   "display_name": "Python 3 (ipykernel)",
   "language": "python",
   "name": "python3"
  },
  "language_info": {
   "codemirror_mode": {
    "name": "ipython",
    "version": 3
   },
   "file_extension": ".py",
   "mimetype": "text/x-python",
   "name": "python",
   "nbconvert_exporter": "python",
   "pygments_lexer": "ipython3",
   "version": "3.9.7"
  }
 },
 "nbformat": 4,
 "nbformat_minor": 5
}
