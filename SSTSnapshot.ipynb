{
 "cells": [
  {
   "cell_type": "code",
   "execution_count": 92,
   "metadata": {},
   "outputs": [],
   "source": [
    "import os\n",
    "import sys\n",
    "sys.path.insert(0,'./tools/')\n",
    "\n",
    "import numpy as np\n",
    "import xarray as xr\n",
    "import pandas as pd\n",
    "\n",
    "import matplotlib.pyplot as plt\n",
    "\n",
    "import cartopy.crs as ccrs"
   ]
  },
  {
   "cell_type": "code",
   "execution_count": 93,
   "metadata": {},
   "outputs": [],
   "source": [
    "# Get properties and functions specific to S-MODE maps\n",
    "from tools.config import MAPEXTENT\n",
    "from maps import *"
   ]
  },
  {
   "cell_type": "code",
   "execution_count": 94,
   "metadata": {},
   "outputs": [],
   "source": [
    "# Het ops area polygon and shore line from S-MODE Github\n",
    "map_url = 'https://raw.githubusercontent.com/NASA-SMODE/Maps/main/tools/' \n",
    "shore = pd.read_json(map_url + 'NorthCalShoreLine.json')\n",
    "opsarea = pd.read_json(map_url + 'ops_area_polygon.json')"
   ]
  },
  {
   "cell_type": "code",
   "execution_count": 95,
   "metadata": {},
   "outputs": [],
   "source": [
    "# Figure settings\n",
    "figdir  = 'img/'\n",
    "figname = 'SSTSnapshot'\n",
    "extension = ['png']\n",
    "figproperties = dict(dpi=200,bbox_inches='tight')"
   ]
  },
  {
   "cell_type": "markdown",
   "metadata": {},
   "source": [
    "### Fetching some data from WHOI's S-MODE thredds"
   ]
  },
  {
   "cell_type": "code",
   "execution_count": null,
   "metadata": {},
   "outputs": [],
   "source": [
    "# The 10/14 VIIRS SST image looks particularly good\n",
    "base_url = 'http://smode.whoi.edu:8080/thredds/dodsC/satellite/'\n",
    "filename = 'VIIRS_NRT/VIIRS_NRT_20211014T102000Z.nc'\n",
    "\n",
    "# Put the data into a Dataset and select data within MAPEXTENT\n",
    "sst = xr.open_dataset(base_url+filename).isel(time=0)\n",
    "sst = sst.where((sst.lon>=MAPEXTENT[0])&\n",
    "                (sst.lon<=MAPEXTENT[1])&\n",
    "                (sst.lat>=MAPEXTENT[2])&\n",
    "                (sst.lat<=MAPEXTENT[3]),\n",
    "                 drop=True)"
   ]
  },
  {
   "cell_type": "code",
   "execution_count": null,
   "metadata": {},
   "outputs": [],
   "source": [
    "sst"
   ]
  },
  {
   "cell_type": "code",
   "execution_count": null,
   "metadata": {},
   "outputs": [],
   "source": [
    "# AVISO's SLA may also be useful\n",
    "base_url = 'http://smode.whoi.edu:8080/thredds/dodsC/satellite/'\n",
    "aviso = xr.open_dataset(base_url+'AVISO/aviso.nc').sel(time='2021-10-14T00:00:00.000000000')\n",
    "\n",
    "# AVISO data is on a regular grid, with longitude and latitude as coordinates, \n",
    "# so we can slice the dataset easily\n",
    "d = 0.25\n",
    "aviso = aviso.sel(longitude=slice(MAPEXTENT[0]-d,MAPEXTENT[1]+d),\n",
    "                  latitude=slice(MAPEXTENT[2]-d,MAPEXTENT[3]+d)\n",
    ")"
   ]
  },
  {
   "cell_type": "code",
   "execution_count": null,
   "metadata": {},
   "outputs": [],
   "source": [
    "aviso"
   ]
  },
  {
   "cell_type": "markdown",
   "metadata": {},
   "source": [
    "# A quick-and-dirty plot"
   ]
  },
  {
   "cell_type": "code",
   "execution_count": null,
   "metadata": {},
   "outputs": [],
   "source": [
    "fig = plt.figure(figsize=(8,5))\n",
    "ax = fig.add_subplot(111)\n",
    "\n",
    "# Plot shoreline and operations area\n",
    "shore.plot(x = 'longitude',\n",
    "           y = 'latitude', \n",
    "           color = 'k',\n",
    "           legend=False,\n",
    "           ax = ax\n",
    ")\n",
    "\n",
    "opsarea.plot(x = 'longitude',\n",
    "             y = 'latitude', \n",
    "             color = 'k',\n",
    "             legend=False,\n",
    "             ax = ax\n",
    ")\n",
    "\n",
    "# plot SST image\n",
    "kwargs_t = {\n",
    "    'vmin': 11.5,\n",
    "    'vmax': 15.5,\n",
    "    'cmap': 'Spectral_r',\n",
    "    'add_colorbar': False\n",
    "}\n",
    "\n",
    "im = (sst.sea_surface_temperature-273.15).\\\n",
    "                plot.pcolormesh(x='lon',\n",
    "                                y='lat',\n",
    "                                **kwargs_t\n",
    "                )\n",
    "\n",
    "# contour absolute dynamic topography\n",
    "kwargs_a = {\n",
    "    'levels': np.arange(-0.2,0.201,.01),\n",
    "    'colors': '0.25',\n",
    "    'linewidths': 0.75\n",
    "}\n",
    "\n",
    "(aviso.adt-aviso.adt.mean()).plot.contour(**kwargs_a,ax=ax)\n",
    "\n",
    "ax.set_xlim(*MAPEXTENT[:2])\n",
    "ax.set_ylim(*MAPEXTENT[2:])\n",
    "\n",
    "plt.colorbar(im,label=r'SST [$^\\circ$C]',\n",
    "             shrink=0.75,extend='both')"
   ]
  },
  {
   "cell_type": "markdown",
   "metadata": {},
   "source": [
    "## A map with projection using cartopy"
   ]
  },
  {
   "cell_type": "code",
   "execution_count": null,
   "metadata": {},
   "outputs": [],
   "source": [
    "projection = ccrs.PlateCarree(\n",
    "                central_longitude=(MAPEXTENT[0]+MAPEXTENT[1])/2\n",
    ")\n",
    "\n",
    "map_axes = (GeoAxes,{'map_projection':projection})\n",
    "trans = ccrs.PlateCarree()"
   ]
  },
  {
   "cell_type": "code",
   "execution_count": null,
   "metadata": {},
   "outputs": [],
   "source": [
    "fig = plt.figure(figsize=(8,7))\n",
    "\n",
    "ax = fig.add_subplot(111, projection=projection)     \n",
    "\n",
    "ax.set_extent(MAPEXTENT)\n",
    "\n",
    "\n",
    "# Plot shoreline and operations area\n",
    "opsarea.plot(x = 'longitude',\n",
    "             y = 'latitude', \n",
    "             color = 'k',\n",
    "             legend=False,\n",
    "             ax = ax,\n",
    "             transform=ccrs.PlateCarree()\n",
    ")\n",
    "\n",
    "# plot sst image\n",
    "im = (sst.sea_surface_temperature-273.15).\\\n",
    "                plot.pcolormesh(x='lon',\n",
    "                                y='lat',\n",
    "                                transform=trans,\n",
    "                                **kwargs_t)\n",
    "\n",
    "# contour absolute dynamic topography\n",
    "(aviso.adt-aviso.adt.mean()).plot.contour(ax=ax, \n",
    "                                          transform=trans,\n",
    "                                           **kwargs_a)\n",
    "\n",
    "\n",
    "# map properties (continent, labels, grid)\n",
    "plot_map_properties(ax,\n",
    "                    transform=ccrs.PlateCarree(),\n",
    "                    continent_facecolor='0.35')\n",
    "\n",
    "fig.colorbar(im,shrink=0.5,extend='both',\n",
    "             label=r'SST [C$^\\circ$]')\n",
    "\n",
    "# Save figure in the desired extensions\n",
    "[fig.savefig(os.path.join(figdir,figname+'_cartopy.'+ext),\n",
    "             **figproperties) \n",
    "             for ext in extension]"
   ]
  },
  {
   "cell_type": "code",
   "execution_count": null,
   "metadata": {},
   "outputs": [],
   "source": []
  }
 ],
 "metadata": {
  "kernelspec": {
   "display_name": "Python 3",
   "language": "python",
   "name": "python3"
  },
  "language_info": {
   "codemirror_mode": {
    "name": "ipython",
    "version": 3
   },
   "file_extension": ".py",
   "mimetype": "text/x-python",
   "name": "python",
   "nbconvert_exporter": "python",
   "pygments_lexer": "ipython3",
   "version": "3.8.3"
  }
 },
 "nbformat": 4,
 "nbformat_minor": 5
}
