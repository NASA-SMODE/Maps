{
 "cells": [
  {
   "cell_type": "markdown",
   "metadata": {},
   "source": [
    "# Demo: fetching positions of S-MODE in-situ assets"
   ]
  },
  {
   "cell_type": "code",
   "execution_count": 17,
   "metadata": {},
   "outputs": [],
   "source": [
    "import pandas as pd\n",
    "import matplotlib.pyplot as plt\n",
    "from tools.config import MAPEXTENT"
   ]
  },
  {
   "cell_type": "code",
   "execution_count": 18,
   "metadata": {},
   "outputs": [],
   "source": [
    "# B. Greenwood is pushing hourly the positions of all assets to a table http://smode.whoi.edu/index.php/insitu/\n",
    "# We can fetch the json file with pandas:\n",
    "assets = pd.read_json('http://smode.whoi.edu/status.php?format=json')"
   ]
  },
  {
   "cell_type": "code",
   "execution_count": 19,
   "metadata": {},
   "outputs": [
    {
     "data": {
      "text/html": [
       "<div>\n",
       "<style scoped>\n",
       "    .dataframe tbody tr th:only-of-type {\n",
       "        vertical-align: middle;\n",
       "    }\n",
       "\n",
       "    .dataframe tbody tr th {\n",
       "        vertical-align: top;\n",
       "    }\n",
       "\n",
       "    .dataframe thead th {\n",
       "        text-align: right;\n",
       "    }\n",
       "</style>\n",
       "<table border=\"1\" class=\"dataframe\">\n",
       "  <thead>\n",
       "    <tr style=\"text-align: right;\">\n",
       "      <th></th>\n",
       "      <th>type</th>\n",
       "      <th>sn</th>\n",
       "      <th>last_updated</th>\n",
       "      <th>latitude</th>\n",
       "      <th>longitude</th>\n",
       "    </tr>\n",
       "  </thead>\n",
       "  <tbody>\n",
       "    <tr>\n",
       "      <th>0</th>\n",
       "      <td>APL Float</td>\n",
       "      <td>88</td>\n",
       "      <td>2021-09-11 14:41:23</td>\n",
       "      <td>47.744000</td>\n",
       "      <td>-122.389400</td>\n",
       "    </tr>\n",
       "    <tr>\n",
       "      <th>1</th>\n",
       "      <td>drifter</td>\n",
       "      <td>0-4421166</td>\n",
       "      <td>2021-04-15 19:34:29</td>\n",
       "      <td>33.204300</td>\n",
       "      <td>-117.306000</td>\n",
       "    </tr>\n",
       "    <tr>\n",
       "      <th>2</th>\n",
       "      <td>drifter</td>\n",
       "      <td>0-4421176</td>\n",
       "      <td>2021-04-15 20:56:15</td>\n",
       "      <td>33.204300</td>\n",
       "      <td>-117.306100</td>\n",
       "    </tr>\n",
       "    <tr>\n",
       "      <th>3</th>\n",
       "      <td>drifter</td>\n",
       "      <td>300234064739060</td>\n",
       "      <td>2021-07-16 12:00:26</td>\n",
       "      <td>33.585600</td>\n",
       "      <td>-117.230100</td>\n",
       "    </tr>\n",
       "    <tr>\n",
       "      <th>4</th>\n",
       "      <td>navo_glider</td>\n",
       "      <td>NG231</td>\n",
       "      <td>2021-10-13 23:07:29</td>\n",
       "      <td>37.510250</td>\n",
       "      <td>-123.927170</td>\n",
       "    </tr>\n",
       "    <tr>\n",
       "      <th>5</th>\n",
       "      <td>navo_glider</td>\n",
       "      <td>NG258</td>\n",
       "      <td>2021-10-14 04:31:19</td>\n",
       "      <td>36.704640</td>\n",
       "      <td>-123.420450</td>\n",
       "    </tr>\n",
       "    <tr>\n",
       "      <th>6</th>\n",
       "      <td>navo_glider</td>\n",
       "      <td>NG268</td>\n",
       "      <td>2021-10-14 01:59:46</td>\n",
       "      <td>36.856990</td>\n",
       "      <td>-123.307600</td>\n",
       "    </tr>\n",
       "    <tr>\n",
       "      <th>7</th>\n",
       "      <td>navo_glider</td>\n",
       "      <td>NG316</td>\n",
       "      <td>2021-10-14 07:40:10</td>\n",
       "      <td>37.167080</td>\n",
       "      <td>-124.159410</td>\n",
       "    </tr>\n",
       "    <tr>\n",
       "      <th>8</th>\n",
       "      <td>navo_glider</td>\n",
       "      <td>NG350</td>\n",
       "      <td>2021-09-01 21:19:44</td>\n",
       "      <td>37.226280</td>\n",
       "      <td>-123.558720</td>\n",
       "    </tr>\n",
       "    <tr>\n",
       "      <th>9</th>\n",
       "      <td>navo_glider</td>\n",
       "      <td>NG533</td>\n",
       "      <td>2021-10-14 05:57:34</td>\n",
       "      <td>36.632630</td>\n",
       "      <td>-123.333720</td>\n",
       "    </tr>\n",
       "    <tr>\n",
       "      <th>10</th>\n",
       "      <td>navo_glider</td>\n",
       "      <td>NG599</td>\n",
       "      <td>2021-10-13 00:28:27</td>\n",
       "      <td>37.661490</td>\n",
       "      <td>-123.317990</td>\n",
       "    </tr>\n",
       "    <tr>\n",
       "      <th>11</th>\n",
       "      <td>navo_glider</td>\n",
       "      <td>NG665</td>\n",
       "      <td>2021-10-14 01:55:18</td>\n",
       "      <td>37.028390</td>\n",
       "      <td>-123.712970</td>\n",
       "    </tr>\n",
       "    <tr>\n",
       "      <th>12</th>\n",
       "      <td>navo_glider</td>\n",
       "      <td>NG734</td>\n",
       "      <td>2021-10-14 02:38:50</td>\n",
       "      <td>37.763390</td>\n",
       "      <td>-123.950750</td>\n",
       "    </tr>\n",
       "    <tr>\n",
       "      <th>13</th>\n",
       "      <td>navo_glider</td>\n",
       "      <td>NG780</td>\n",
       "      <td>2021-10-14 05:19:57</td>\n",
       "      <td>37.445110</td>\n",
       "      <td>-123.345600</td>\n",
       "    </tr>\n",
       "    <tr>\n",
       "      <th>14</th>\n",
       "      <td>saildrone</td>\n",
       "      <td>1062</td>\n",
       "      <td>2021-09-27 02:30:00</td>\n",
       "      <td>37.633700</td>\n",
       "      <td>-122.630800</td>\n",
       "    </tr>\n",
       "    <tr>\n",
       "      <th>15</th>\n",
       "      <td>saildrone</td>\n",
       "      <td>1072</td>\n",
       "      <td>2021-09-17 17:00:09</td>\n",
       "      <td>37.782840</td>\n",
       "      <td>-122.305060</td>\n",
       "    </tr>\n",
       "    <tr>\n",
       "      <th>16</th>\n",
       "      <td>saildrone</td>\n",
       "      <td>1073</td>\n",
       "      <td>2021-09-11 10:00:27</td>\n",
       "      <td>37.782570</td>\n",
       "      <td>-122.305180</td>\n",
       "    </tr>\n",
       "    <tr>\n",
       "      <th>17</th>\n",
       "      <td>saildrone</td>\n",
       "      <td>1074</td>\n",
       "      <td>2021-09-21 05:59:57</td>\n",
       "      <td>37.782710</td>\n",
       "      <td>-122.305140</td>\n",
       "    </tr>\n",
       "    <tr>\n",
       "      <th>18</th>\n",
       "      <td>saildrone</td>\n",
       "      <td>1075</td>\n",
       "      <td>2021-10-02 17:59:55</td>\n",
       "      <td>37.782660</td>\n",
       "      <td>-122.305060</td>\n",
       "    </tr>\n",
       "    <tr>\n",
       "      <th>19</th>\n",
       "      <td>ship</td>\n",
       "      <td>R/V Oceanus</td>\n",
       "      <td>2021-09-25 14:38:56</td>\n",
       "      <td>44.625690</td>\n",
       "      <td>-124.044800</td>\n",
       "    </tr>\n",
       "    <tr>\n",
       "      <th>20</th>\n",
       "      <td>waveglider</td>\n",
       "      <td>KELVIN</td>\n",
       "      <td>2021-10-06 00:12:00</td>\n",
       "      <td>32.869911</td>\n",
       "      <td>-117.250839</td>\n",
       "    </tr>\n",
       "    <tr>\n",
       "      <th>21</th>\n",
       "      <td>waveglider</td>\n",
       "      <td>PLANCK</td>\n",
       "      <td>2021-10-06 16:55:00</td>\n",
       "      <td>32.869839</td>\n",
       "      <td>-117.250771</td>\n",
       "    </tr>\n",
       "    <tr>\n",
       "      <th>22</th>\n",
       "      <td>waveglider</td>\n",
       "      <td>STOKES</td>\n",
       "      <td>2021-10-07 20:50:00</td>\n",
       "      <td>32.869942</td>\n",
       "      <td>-117.250938</td>\n",
       "    </tr>\n",
       "    <tr>\n",
       "      <th>23</th>\n",
       "      <td>waveglider</td>\n",
       "      <td>SV3-1043</td>\n",
       "      <td>2021-10-06 16:50:00</td>\n",
       "      <td>32.869869</td>\n",
       "      <td>-117.250862</td>\n",
       "    </tr>\n",
       "  </tbody>\n",
       "</table>\n",
       "</div>"
      ],
      "text/plain": [
       "           type               sn         last_updated   latitude   longitude\n",
       "0     APL Float               88  2021-09-11 14:41:23  47.744000 -122.389400\n",
       "1       drifter        0-4421166  2021-04-15 19:34:29  33.204300 -117.306000\n",
       "2       drifter        0-4421176  2021-04-15 20:56:15  33.204300 -117.306100\n",
       "3       drifter  300234064739060  2021-07-16 12:00:26  33.585600 -117.230100\n",
       "4   navo_glider            NG231  2021-10-13 23:07:29  37.510250 -123.927170\n",
       "5   navo_glider            NG258  2021-10-14 04:31:19  36.704640 -123.420450\n",
       "6   navo_glider            NG268  2021-10-14 01:59:46  36.856990 -123.307600\n",
       "7   navo_glider            NG316  2021-10-14 07:40:10  37.167080 -124.159410\n",
       "8   navo_glider            NG350  2021-09-01 21:19:44  37.226280 -123.558720\n",
       "9   navo_glider            NG533  2021-10-14 05:57:34  36.632630 -123.333720\n",
       "10  navo_glider            NG599  2021-10-13 00:28:27  37.661490 -123.317990\n",
       "11  navo_glider            NG665  2021-10-14 01:55:18  37.028390 -123.712970\n",
       "12  navo_glider            NG734  2021-10-14 02:38:50  37.763390 -123.950750\n",
       "13  navo_glider            NG780  2021-10-14 05:19:57  37.445110 -123.345600\n",
       "14    saildrone             1062  2021-09-27 02:30:00  37.633700 -122.630800\n",
       "15    saildrone             1072  2021-09-17 17:00:09  37.782840 -122.305060\n",
       "16    saildrone             1073  2021-09-11 10:00:27  37.782570 -122.305180\n",
       "17    saildrone             1074  2021-09-21 05:59:57  37.782710 -122.305140\n",
       "18    saildrone             1075  2021-10-02 17:59:55  37.782660 -122.305060\n",
       "19         ship      R/V Oceanus  2021-09-25 14:38:56  44.625690 -124.044800\n",
       "20   waveglider           KELVIN  2021-10-06 00:12:00  32.869911 -117.250839\n",
       "21   waveglider           PLANCK  2021-10-06 16:55:00  32.869839 -117.250771\n",
       "22   waveglider           STOKES  2021-10-07 20:50:00  32.869942 -117.250938\n",
       "23   waveglider         SV3-1043  2021-10-06 16:50:00  32.869869 -117.250862"
      ]
     },
     "execution_count": 19,
     "metadata": {},
     "output_type": "execute_result"
    }
   ],
   "source": [
    "assets"
   ]
  },
  {
   "cell_type": "markdown",
   "metadata": {},
   "source": [
    "### Quick plot: current position of all in-situ assets"
   ]
  },
  {
   "cell_type": "code",
   "execution_count": 20,
   "metadata": {},
   "outputs": [
    {
     "data": {
      "text/plain": [
       "<matplotlib.axes._subplots.AxesSubplot at 0x7fa0214053a0>"
      ]
     },
     "execution_count": 20,
     "metadata": {},
     "output_type": "execute_result"
    },
    {
     "data": {
      "image/png": "[encoded data removed]",
      "text/plain": [
       "<Figure size 432x288 with 1 Axes>"
      ]
     },
     "metadata": {
      "needs_background": "light"
     },
     "output_type": "display_data"
    }
   ],
   "source": [
    "assets.plot.scatter(x='longitude', y='latitude')"
   ]
  },
  {
   "cell_type": "markdown",
   "metadata": {},
   "source": [
    "### Quick plot 2: current position of a single type of asset"
   ]
  },
  {
   "cell_type": "code",
   "execution_count": 21,
   "metadata": {},
   "outputs": [],
   "source": [
    "# get ops area polygon and shore line\n",
    "map_url = 'https://raw.githubusercontent.com/NASA-SMODE/Maps/main/tools/' \n",
    "shore = pd.read_json(map_url + 'NorthCalShoreLine.json')\n",
    "opsarea = pd.read_json(map_url + 'ops_area_polygon.json')"
   ]
  },
  {
   "cell_type": "code",
   "execution_count": 22,
   "metadata": {},
   "outputs": [
    {
     "data": {
      "text/plain": [
       "(36.0, 39.0)"
      ]
     },
     "execution_count": 22,
     "metadata": {},
     "output_type": "execute_result"
    },
    {
     "data": {
      "image/png": "[encoded data removed]",
      "text/plain": [
       "<Figure size 432x288 with 1 Axes>"
      ]
     },
     "metadata": {
      "needs_background": "light"
     },
     "output_type": "display_data"
    }
   ],
   "source": [
    "# Plot a single type of asset\n",
    "asset_type = 'navo_glider'\n",
    "\n",
    "fig, ax = plt.subplots()\n",
    "\n",
    "assets[assets.type==asset_type].\\\n",
    "             plot.scatter(x='longitude',\n",
    "                          y='latitude',\n",
    "                          ax = ax)\n",
    "\n",
    "ax.set_title(asset_type)\n",
    "\n",
    "shore.plot(x = 'longitude',\n",
    "           y = 'latitude', \n",
    "           color = 'k',\n",
    "           legend=False,\n",
    "           ax = ax\n",
    ")\n",
    "\n",
    "opsarea.plot(x = 'longitude',\n",
    "             y = 'latitude', \n",
    "             color = 'k',\n",
    "             legend=False,\n",
    "             ax = ax\n",
    ")\n",
    "\n",
    "ax.set_xlim(*MAPEXTENT[:2])\n",
    "ax.set_ylim(*MAPEXTENT[2:])"
   ]
  },
  {
   "cell_type": "code",
   "execution_count": null,
   "metadata": {},
   "outputs": [],
   "source": []
  }
 ],
 "metadata": {
  "kernelspec": {
   "display_name": "Python 3",
   "language": "python",
   "name": "python3"
  },
  "language_info": {
   "codemirror_mode": {
    "name": "ipython",
    "version": 3
   },
   "file_extension": ".py",
   "mimetype": "text/x-python",
   "name": "python",
   "nbconvert_exporter": "python",
   "pygments_lexer": "ipython3",
   "version": "3.8.3"
  }
 },
 "nbformat": 4,
 "nbformat_minor": 4
}
